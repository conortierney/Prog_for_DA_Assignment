{
 "cells": [
  {
   "cell_type": "markdown",
   "id": "e86fdcea",
   "metadata": {},
   "source": [
    "# Programming for Data Analysis Assignment"
   ]
  },
  {
   "cell_type": "markdown",
   "id": "2dfd3975",
   "metadata": {},
   "source": [
    " ### Introduction."
   ]
  },
  {
   "cell_type": "markdown",
   "id": "96d51cac",
   "metadata": {},
   "source": [
    "\n",
    "This notebook was created to model and synthesise data using Python for my Programming for Data Analysis Assignment. It details my research of a real-world phenomenon and its analysis via Python packages and modules. The notebook outline the types of variables in the data seta and their likely distributions, and their relationships.\n",
    "\n",
    "When the code is run within the notebook, it ouputs graphs and charts to for visulaisation and analysis of the data."
   ]
  },
  {
   "cell_type": "markdown",
   "id": "96708966",
   "metadata": {},
   "source": [
    "Note:\n",
    " pandas\n",
    " numpy\n",
    " Matplotlib\n",
    " seaborn\n",
    "time series?"
   ]
  },
  {
   "cell_type": "markdown",
   "id": "a9055f2d",
   "metadata": {},
   "source": [
    "## Investigation of a real-world phenomenon"
   ]
  },
  {
   "cell_type": "markdown",
   "id": "fc4294b9",
   "metadata": {},
   "source": [
    "background/ research of the datset"
   ]
  },
  {
   "cell_type": "code",
   "execution_count": null,
   "id": "230309f9",
   "metadata": {},
   "outputs": [],
   "source": [
    " # medical technology in Irish hospistal - outline origional csv file and info."
   ]
  },
  {
   "cell_type": "markdown",
   "id": "e8ba1af3",
   "metadata": {},
   "source": [
    "## Synthesise the data using the numpy.random package"
   ]
  },
  {
   "cell_type": "code",
   "execution_count": null,
   "id": "31b26d41",
   "metadata": {},
   "outputs": [],
   "source": [
    "# numpy.random"
   ]
  },
  {
   "cell_type": "markdown",
   "id": "b992039d",
   "metadata": {},
   "source": [
    "## Investigation of the types of variables involved in the dataset."
   ]
  },
  {
   "cell_type": "code",
   "execution_count": null,
   "id": "8cdcce06",
   "metadata": {},
   "outputs": [],
   "source": [
    "variables and their relationships\n",
    "show these in a dataframe below here/ see Iris example"
   ]
  },
  {
   "cell_type": "markdown",
   "id": "c77bc7c7",
   "metadata": {},
   "source": [
    "### Medical technology by type of setting -  study heading."
   ]
  },
  {
   "cell_type": "code",
   "execution_count": null,
   "id": "4c988a94",
   "metadata": {},
   "outputs": [],
   "source": [
    "# 'These statistics are compiled and published on an annual basis and refer\n",
    "#o the number of Computed Tomography (CT) scanners, Magnetic Reasoning Imaging (MRI) units,\n",
    "#ositron Emission Tomography (PET) scanners, Gamma cameras and Radiation Therapy equipment\n",
    "#vailable in public and private hospitals in the Republic of Ireland'."
   ]
  },
  {
   "cell_type": "code",
   "execution_count": null,
   "id": "7032a155",
   "metadata": {},
   "outputs": [],
   "source": [
    " # ![image.png](attachment:image.png)"
   ]
  },
  {
   "cell_type": "code",
   "execution_count": null,
   "id": "56e44374",
   "metadata": {},
   "outputs": [],
   "source": [
    "The most intersting varibales in this dataset are \n",
    "1- Type of technology - MRI / CT (categorical?)\n",
    "2- Year(time variable):  non-negative real\n",
    "3- Type of setting (hospital or ambulatory) - categorical\n",
    "4 - No of units  (non-zero integer)"
   ]
  },
  {
   "cell_type": "code",
   "execution_count": null,
   "id": "079ac91c",
   "metadata": {},
   "outputs": [],
   "source": [
    "e.g look at the relationship/trend of mri units in each setting over 20 years 2000- 2020."
   ]
  },
  {
   "cell_type": "code",
   "execution_count": 1,
   "id": "198e7fc7",
   "metadata": {},
   "outputs": [],
   "source": [
    "#Import necessary libraries.\n",
    "\n",
    "import numpy as np\n",
    "import pandas as pd\n",
    "import matplotlib.pyplot as plt\n",
    "import seaborn as snss"
   ]
  },
  {
   "cell_type": "code",
   "execution_count": null,
   "id": "c75751c4",
   "metadata": {},
   "outputs": [],
   "source": [
    "# Data preprocessing? needed\n",
    "read in csv file or synthesis using numpy.random. "
   ]
  },
  {
   "cell_type": "code",
   "execution_count": null,
   "id": "fe7532e1",
   "metadata": {},
   "outputs": [],
   "source": [
    " # synthesise  data using Python\n",
    "numpy.random"
   ]
  },
  {
   "cell_type": "code",
   "execution_count": null,
   "id": "e0ad6d92",
   "metadata": {},
   "outputs": [],
   "source": []
  }
 ],
 "metadata": {
  "kernelspec": {
   "display_name": "Python 3 (ipykernel)",
   "language": "python",
   "name": "python3"
  },
  "language_info": {
   "codemirror_mode": {
    "name": "ipython",
    "version": 3
   },
   "file_extension": ".py",
   "mimetype": "text/x-python",
   "name": "python",
   "nbconvert_exporter": "python",
   "pygments_lexer": "ipython3",
   "version": "3.11.4"
  }
 },
 "nbformat": 4,
 "nbformat_minor": 5
}
